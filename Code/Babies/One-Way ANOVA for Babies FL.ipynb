{
 "cells": [
  {
   "cell_type": "code",
   "execution_count": 28,
   "metadata": {},
   "outputs": [],
   "source": [
    "import statsmodels.api as sm\n",
    "import pandas as pd\n",
    "from patsy import dmatrices\n",
    "from statsmodels.stats.multicomp import pairwise_tukeyhsd, MultiComparison, tukeyhsd\n",
    "import numpy as np\n",
    "from statsmodels.stats.libqsturng import psturng\n",
    "from statsmodels.formula.api import ols\n",
    "import matplotlib.pyplot as plt\n",
    "import math\n",
    "import pandas as pd\n",
    "import numpy as np\n",
    "import random\n",
    "from matplotlib import cm\n",
    "import statsmodels.api as sm\n",
    "from statsmodels.formula.api import ols as ols\n",
    "import os\n",
    "import tarfile\n",
    "from six.moves import urllib\n",
    "import matplotlib.image as mpimg"
   ]
  },
  {
   "cell_type": "code",
   "execution_count": 29,
   "metadata": {},
   "outputs": [
    {
     "name": "stdout",
     "output_type": "stream",
     "text": [
      "   Notes    State  State Code                    C Unnamed: 4  Unnamed: 5  \\\n",
      "0    NaN  Florida          12       Brevard County         FL         NaN   \n",
      "1    NaN  Florida          12       Broward County         FL         NaN   \n",
      "2    NaN  Florida          12       Collier County         FL         NaN   \n",
      "3    NaN  Florida          12         Duval County         FL         NaN   \n",
      "4    NaN  Florida          12      Escambia County         FL         NaN   \n",
      "5    NaN  Florida          12  Hillsborough County         FL         NaN   \n",
      "6    NaN  Florida          12          Lake County         FL         NaN   \n",
      "7    NaN  Florida          12           Lee County         FL         NaN   \n",
      "8    NaN  Florida          12          Leon County         FL         NaN   \n",
      "9    NaN  Florida          12       Manatee County         FL         NaN   \n",
      "\n",
      "   County_Code  Deaths  Births Death Rate    Values  \n",
      "0        12009      32    5246        6.1  0.609989  \n",
      "1        12011     118   22311       5.29  0.528887  \n",
      "2        12021      22    3256       6.76  0.675676  \n",
      "3        12031     108   13039       8.28  0.828284  \n",
      "4        12033      32    3902        8.2  0.820092  \n",
      "5        12057     143   17568       8.14  0.813980  \n",
      "6        12069      30    3184       9.42  0.942211  \n",
      "7        12071      42    6777        6.2  0.619743  \n",
      "8        12073      21    3047       6.89  0.689202  \n",
      "9        12081      21    3469       6.05  0.605362  \n"
     ]
    }
   ],
   "source": [
    "destroy = pd.read_csv('BabiesFL.csv') # Data File imported from excel with all filtration done beforehand\n",
    "print destroy.head(10)"
   ]
  },
  {
   "cell_type": "code",
   "execution_count": 31,
   "metadata": {},
   "outputs": [
    {
     "name": "stdout",
     "output_type": "stream",
     "text": [
      "               sum_sq    df       F    PR(>F)\n",
      "County_Code  0.002830   1.0  0.1476  0.704702\n",
      "Residual     0.402669  21.0     NaN       NaN\n"
     ]
    },
    {
     "data": {
      "text/html": [
       "<table class=\"simpletable\">\n",
       "<caption>OLS Regression Results</caption>\n",
       "<tr>\n",
       "  <th>Dep. Variable:</th>         <td>Values</td>      <th>  R-squared:         </th> <td>   0.007</td>\n",
       "</tr>\n",
       "<tr>\n",
       "  <th>Model:</th>                   <td>OLS</td>       <th>  Adj. R-squared:    </th> <td>  -0.040</td>\n",
       "</tr>\n",
       "<tr>\n",
       "  <th>Method:</th>             <td>Least Squares</td>  <th>  F-statistic:       </th> <td>  0.1476</td>\n",
       "</tr>\n",
       "<tr>\n",
       "  <th>Date:</th>             <td>Wed, 12 Dec 2018</td> <th>  Prob (F-statistic):</th>  <td> 0.705</td> \n",
       "</tr>\n",
       "<tr>\n",
       "  <th>Time:</th>                 <td>00:15:16</td>     <th>  Log-Likelihood:    </th> <td>  13.883</td>\n",
       "</tr>\n",
       "<tr>\n",
       "  <th>No. Observations:</th>      <td>    23</td>      <th>  AIC:               </th> <td>  -23.77</td>\n",
       "</tr>\n",
       "<tr>\n",
       "  <th>Df Residuals:</th>          <td>    21</td>      <th>  BIC:               </th> <td>  -21.50</td>\n",
       "</tr>\n",
       "<tr>\n",
       "  <th>Df Model:</th>              <td>     1</td>      <th>                     </th>     <td> </td>   \n",
       "</tr>\n",
       "<tr>\n",
       "  <th>Covariance Type:</th>      <td>nonrobust</td>    <th>                     </th>     <td> </td>   \n",
       "</tr>\n",
       "</table>\n",
       "<table class=\"simpletable\">\n",
       "<tr>\n",
       "       <td></td>          <th>coef</th>     <th>std err</th>      <th>t</th>      <th>P>|t|</th>  <th>[0.025</th>    <th>0.975]</th>  \n",
       "</tr>\n",
       "<tr>\n",
       "  <th>Intercept</th>   <td>    1.3517</td> <td>    1.831</td> <td>    0.738</td> <td> 0.469</td> <td>   -2.456</td> <td>    5.160</td>\n",
       "</tr>\n",
       "<tr>\n",
       "  <th>County_Code</th> <td>-5.805e-05</td> <td>    0.000</td> <td>   -0.384</td> <td> 0.705</td> <td>   -0.000</td> <td>    0.000</td>\n",
       "</tr>\n",
       "</table>\n",
       "<table class=\"simpletable\">\n",
       "<tr>\n",
       "  <th>Omnibus:</th>       <td> 1.873</td> <th>  Durbin-Watson:     </th> <td>   1.296</td>\n",
       "</tr>\n",
       "<tr>\n",
       "  <th>Prob(Omnibus):</th> <td> 0.392</td> <th>  Jarque-Bera (JB):  </th> <td>   1.554</td>\n",
       "</tr>\n",
       "<tr>\n",
       "  <th>Skew:</th>          <td> 0.499</td> <th>  Prob(JB):          </th> <td>   0.460</td>\n",
       "</tr>\n",
       "<tr>\n",
       "  <th>Kurtosis:</th>      <td> 2.210</td> <th>  Cond. No.          </th> <td>7.69e+05</td>\n",
       "</tr>\n",
       "</table><br/><br/>Warnings:<br/>[1] Standard Errors assume that the covariance matrix of the errors is correctly specified.<br/>[2] The condition number is large, 7.69e+05. This might indicate that there are<br/>strong multicollinearity or other numerical problems."
      ],
      "text/plain": [
       "<class 'statsmodels.iolib.summary.Summary'>\n",
       "\"\"\"\n",
       "                            OLS Regression Results                            \n",
       "==============================================================================\n",
       "Dep. Variable:                 Values   R-squared:                       0.007\n",
       "Model:                            OLS   Adj. R-squared:                 -0.040\n",
       "Method:                 Least Squares   F-statistic:                    0.1476\n",
       "Date:                Wed, 12 Dec 2018   Prob (F-statistic):              0.705\n",
       "Time:                        00:15:16   Log-Likelihood:                 13.883\n",
       "No. Observations:                  23   AIC:                            -23.77\n",
       "Df Residuals:                      21   BIC:                            -21.50\n",
       "Df Model:                           1                                         \n",
       "Covariance Type:            nonrobust                                         \n",
       "===============================================================================\n",
       "                  coef    std err          t      P>|t|      [0.025      0.975]\n",
       "-------------------------------------------------------------------------------\n",
       "Intercept       1.3517      1.831      0.738      0.469      -2.456       5.160\n",
       "County_Code -5.805e-05      0.000     -0.384      0.705      -0.000       0.000\n",
       "==============================================================================\n",
       "Omnibus:                        1.873   Durbin-Watson:                   1.296\n",
       "Prob(Omnibus):                  0.392   Jarque-Bera (JB):                1.554\n",
       "Skew:                           0.499   Prob(JB):                        0.460\n",
       "Kurtosis:                       2.210   Cond. No.                     7.69e+05\n",
       "==============================================================================\n",
       "\n",
       "Warnings:\n",
       "[1] Standard Errors assume that the covariance matrix of the errors is correctly specified.\n",
       "[2] The condition number is large, 7.69e+05. This might indicate that there are\n",
       "strong multicollinearity or other numerical problems.\n",
       "\"\"\""
      ]
     },
     "execution_count": 31,
     "metadata": {},
     "output_type": "execute_result"
    }
   ],
   "source": [
    "flor = ols('Values ~ County_Code', data=destroy).fit()  # Simple anova table based on our data, showing only the the F test statistic, and Probability value for States\n",
    "aov_table= sm.stats.anova_lm(flor, typ=2) # Python's Anova version\n",
    "print (aov_table) # Simplified Anova table Results\n",
    "flor.summary()"
   ]
  },
  {
   "cell_type": "markdown",
   "metadata": {},
   "source": []
  },
  {
   "cell_type": "code",
   "execution_count": null,
   "metadata": {},
   "outputs": [],
   "source": []
  }
 ],
 "metadata": {
  "kernelspec": {
   "display_name": "Python 2",
   "language": "python",
   "name": "python2"
  },
  "language_info": {
   "codemirror_mode": {
    "name": "ipython",
    "version": 2
   },
   "file_extension": ".py",
   "mimetype": "text/x-python",
   "name": "python",
   "nbconvert_exporter": "python",
   "pygments_lexer": "ipython2",
   "version": "2.7.15"
  }
 },
 "nbformat": 4,
 "nbformat_minor": 2
}
