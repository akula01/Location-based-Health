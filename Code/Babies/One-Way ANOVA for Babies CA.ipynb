{
 "cells": [
  {
   "cell_type": "code",
   "execution_count": 1,
   "metadata": {},
   "outputs": [],
   "source": [
    "import statsmodels.api as sm\n",
    "import pandas as pd\n",
    "from patsy import dmatrices\n",
    "from statsmodels.stats.multicomp import pairwise_tukeyhsd, MultiComparison, tukeyhsd\n",
    "import numpy as np\n",
    "from statsmodels.stats.libqsturng import psturng\n",
    "from statsmodels.formula.api import ols\n",
    "import matplotlib.pyplot as plt\n",
    "import math\n",
    "import pandas as pd\n",
    "import numpy as np\n",
    "import random\n",
    "from matplotlib import cm\n",
    "import statsmodels.api as sm\n",
    "from statsmodels.formula.api import ols as ols\n",
    "import os\n",
    "import tarfile\n",
    "from six.moves import urllib\n",
    "import matplotlib.image as mpimg"
   ]
  },
  {
   "cell_type": "code",
   "execution_count": 2,
   "metadata": {},
   "outputs": [
    {
     "name": "stdout",
     "output_type": "stream",
     "text": [
      "   Notes       State  State Code                   County  County Code  \\\n",
      "0    NaN  California           6       Alameda County, CA         6001   \n",
      "1    NaN  California           6  Contra Costa County, CA         6013   \n",
      "2    NaN  California           6        Fresno County, CA         6019   \n",
      "3    NaN  California           6          Kern County, CA         6029   \n",
      "4    NaN  California           6   Los Angeles County, CA         6037   \n",
      "5    NaN  California           6        Merced County, CA         6047   \n",
      "6    NaN  California           6      Monterey County, CA         6053   \n",
      "7    NaN  California           6        Orange County, CA         6059   \n",
      "8    NaN  California           6        Placer County, CA         6061   \n",
      "9    NaN  California           6     Riverside County, CA         6065   \n",
      "\n",
      "   Deaths  Births Death Rate    Values  \n",
      "0      76   19434       3.91  0.391067  \n",
      "1      43   12596       3.41  0.341378  \n",
      "2     118   15359       7.68  0.768279  \n",
      "3      94   13768       6.83  0.682743  \n",
      "4     510  124641       4.09  0.409175  \n",
      "5      22    4104       5.36  0.536062  \n",
      "6      40    6420       6.23  0.623053  \n",
      "7     115   37609       3.06  0.305778  \n",
      "8      20    3747       5.34  0.533760  \n",
      "9     119   30491        3.9  0.390279  \n"
     ]
    }
   ],
   "source": [
    "destroy = pd.read_csv('BabiesCA.csv') # Data File imported from excel with all filtration done beforehand\n",
    "print destroy.head(10)"
   ]
  },
  {
   "cell_type": "code",
   "execution_count": 3,
   "metadata": {},
   "outputs": [
    {
     "name": "stderr",
     "output_type": "stream",
     "text": [
      "C:\\Anaconda\\lib\\site-packages\\statsmodels\\regression\\linear_model.py:1510: RuntimeWarning: divide by zero encountered in double_scalars\n",
      "  return np.dot(wresid, wresid) / self.df_resid\n"
     ]
    },
    {
     "ename": "ValueError",
     "evalue": "r_matrix performs f_test for using dimensions that are asymptotically non-normal",
     "output_type": "error",
     "traceback": [
      "\u001b[1;31m\u001b[0m",
      "\u001b[1;31mValueError\u001b[0mTraceback (most recent call last)",
      "\u001b[1;32m<ipython-input-3-702bc7e7bf9a>\u001b[0m in \u001b[0;36m<module>\u001b[1;34m()\u001b[0m\n\u001b[0;32m      1\u001b[0m \u001b[0mcali\u001b[0m \u001b[1;33m=\u001b[0m \u001b[0mols\u001b[0m\u001b[1;33m(\u001b[0m\u001b[1;34m'Values ~ County'\u001b[0m\u001b[1;33m,\u001b[0m \u001b[0mdata\u001b[0m\u001b[1;33m=\u001b[0m\u001b[0mdestroy\u001b[0m\u001b[1;33m)\u001b[0m\u001b[1;33m.\u001b[0m\u001b[0mfit\u001b[0m\u001b[1;33m(\u001b[0m\u001b[1;33m)\u001b[0m  \u001b[1;31m# Simple anova table based on our data, showing only the the F test statistic, and Probability value for States\u001b[0m\u001b[1;33m\u001b[0m\u001b[0m\n\u001b[1;32m----> 2\u001b[1;33m \u001b[0maov_table\u001b[0m\u001b[1;33m=\u001b[0m \u001b[0msm\u001b[0m\u001b[1;33m.\u001b[0m\u001b[0mstats\u001b[0m\u001b[1;33m.\u001b[0m\u001b[0manova_lm\u001b[0m\u001b[1;33m(\u001b[0m\u001b[0mcali\u001b[0m\u001b[1;33m,\u001b[0m \u001b[0mtyp\u001b[0m\u001b[1;33m=\u001b[0m\u001b[1;36m2\u001b[0m\u001b[1;33m)\u001b[0m \u001b[1;31m# Python's Anova version\u001b[0m\u001b[1;33m\u001b[0m\u001b[0m\n\u001b[0m\u001b[0;32m      3\u001b[0m \u001b[1;32mprint\u001b[0m \u001b[1;33m(\u001b[0m\u001b[0maov_table\u001b[0m\u001b[1;33m)\u001b[0m \u001b[1;31m# Simplified Anova table Results\u001b[0m\u001b[1;33m\u001b[0m\u001b[0m\n\u001b[0;32m      4\u001b[0m \u001b[0mcali\u001b[0m\u001b[1;33m.\u001b[0m\u001b[0msummary\u001b[0m\u001b[1;33m(\u001b[0m\u001b[1;33m)\u001b[0m\u001b[1;33m\u001b[0m\u001b[0m\n",
      "\u001b[1;32mC:\\Anaconda\\lib\\site-packages\\statsmodels\\stats\\anova.pyc\u001b[0m in \u001b[0;36manova_lm\u001b[1;34m(*args, **kwargs)\u001b[0m\n\u001b[0;32m    324\u001b[0m     \u001b[1;32mif\u001b[0m \u001b[0mlen\u001b[0m\u001b[1;33m(\u001b[0m\u001b[0margs\u001b[0m\u001b[1;33m)\u001b[0m \u001b[1;33m==\u001b[0m \u001b[1;36m1\u001b[0m\u001b[1;33m:\u001b[0m\u001b[1;33m\u001b[0m\u001b[0m\n\u001b[0;32m    325\u001b[0m         \u001b[0mmodel\u001b[0m \u001b[1;33m=\u001b[0m \u001b[0margs\u001b[0m\u001b[1;33m[\u001b[0m\u001b[1;36m0\u001b[0m\u001b[1;33m]\u001b[0m\u001b[1;33m\u001b[0m\u001b[0m\n\u001b[1;32m--> 326\u001b[1;33m         \u001b[1;32mreturn\u001b[0m \u001b[0manova_single\u001b[0m\u001b[1;33m(\u001b[0m\u001b[0mmodel\u001b[0m\u001b[1;33m,\u001b[0m \u001b[1;33m**\u001b[0m\u001b[0mkwargs\u001b[0m\u001b[1;33m)\u001b[0m\u001b[1;33m\u001b[0m\u001b[0m\n\u001b[0m\u001b[0;32m    327\u001b[0m \u001b[1;33m\u001b[0m\u001b[0m\n\u001b[0;32m    328\u001b[0m     \u001b[1;32mtry\u001b[0m\u001b[1;33m:\u001b[0m\u001b[1;33m\u001b[0m\u001b[0m\n",
      "\u001b[1;32mC:\\Anaconda\\lib\\site-packages\\statsmodels\\stats\\anova.pyc\u001b[0m in \u001b[0;36manova_single\u001b[1;34m(model, **kwargs)\u001b[0m\n\u001b[0;32m     81\u001b[0m     \u001b[1;32melif\u001b[0m \u001b[0mtyp\u001b[0m \u001b[1;32min\u001b[0m \u001b[1;33m[\u001b[0m\u001b[1;36m2\u001b[0m\u001b[1;33m,\u001b[0m \u001b[1;34m\"II\"\u001b[0m\u001b[1;33m]\u001b[0m\u001b[1;33m:\u001b[0m\u001b[1;33m\u001b[0m\u001b[0m\n\u001b[0;32m     82\u001b[0m         return anova2_lm_single(model, design_info, n_rows, test, pr_test,\n\u001b[1;32m---> 83\u001b[1;33m                 robust)\n\u001b[0m\u001b[0;32m     84\u001b[0m     \u001b[1;32melif\u001b[0m \u001b[0mtyp\u001b[0m \u001b[1;32min\u001b[0m \u001b[1;33m[\u001b[0m\u001b[1;36m3\u001b[0m\u001b[1;33m,\u001b[0m \u001b[1;34m\"III\"\u001b[0m\u001b[1;33m]\u001b[0m\u001b[1;33m:\u001b[0m\u001b[1;33m\u001b[0m\u001b[0m\n\u001b[0;32m     85\u001b[0m         return anova3_lm_single(model, design_info, n_rows, test, pr_test,\n",
      "\u001b[1;32mC:\\Anaconda\\lib\\site-packages\\statsmodels\\stats\\anova.pyc\u001b[0m in \u001b[0;36manova2_lm_single\u001b[1;34m(model, design_info, n_rows, test, pr_test, robust)\u001b[0m\n\u001b[0;32m    212\u001b[0m         \u001b[1;31m#from IPython.core.debugger import Pdb; Pdb().set_trace()\u001b[0m\u001b[1;33m\u001b[0m\u001b[1;33m\u001b[0m\u001b[0m\n\u001b[0;32m    213\u001b[0m         \u001b[1;32mif\u001b[0m \u001b[0mtest\u001b[0m \u001b[1;33m==\u001b[0m \u001b[1;34m'F'\u001b[0m\u001b[1;33m:\u001b[0m\u001b[1;33m\u001b[0m\u001b[0m\n\u001b[1;32m--> 214\u001b[1;33m             \u001b[0mf\u001b[0m \u001b[1;33m=\u001b[0m \u001b[0mmodel\u001b[0m\u001b[1;33m.\u001b[0m\u001b[0mf_test\u001b[0m\u001b[1;33m(\u001b[0m\u001b[0mL12\u001b[0m\u001b[1;33m,\u001b[0m \u001b[0mcov_p\u001b[0m\u001b[1;33m=\u001b[0m\u001b[0mrobust_cov\u001b[0m\u001b[1;33m)\u001b[0m\u001b[1;33m\u001b[0m\u001b[0m\n\u001b[0m\u001b[0;32m    215\u001b[0m             \u001b[0mtable\u001b[0m\u001b[1;33m.\u001b[0m\u001b[0mloc\u001b[0m\u001b[1;33m[\u001b[0m\u001b[0mtable\u001b[0m\u001b[1;33m.\u001b[0m\u001b[0mindex\u001b[0m\u001b[1;33m[\u001b[0m\u001b[0mi\u001b[0m\u001b[1;33m]\u001b[0m\u001b[1;33m,\u001b[0m \u001b[0mtest\u001b[0m\u001b[1;33m]\u001b[0m \u001b[1;33m=\u001b[0m \u001b[0mtest_value\u001b[0m \u001b[1;33m=\u001b[0m \u001b[0mf\u001b[0m\u001b[1;33m.\u001b[0m\u001b[0mfvalue\u001b[0m\u001b[1;33m\u001b[0m\u001b[0m\n\u001b[0;32m    216\u001b[0m             \u001b[0mtable\u001b[0m\u001b[1;33m.\u001b[0m\u001b[0mloc\u001b[0m\u001b[1;33m[\u001b[0m\u001b[0mtable\u001b[0m\u001b[1;33m.\u001b[0m\u001b[0mindex\u001b[0m\u001b[1;33m[\u001b[0m\u001b[0mi\u001b[0m\u001b[1;33m]\u001b[0m\u001b[1;33m,\u001b[0m \u001b[0mpr_test\u001b[0m\u001b[1;33m]\u001b[0m \u001b[1;33m=\u001b[0m \u001b[0mf\u001b[0m\u001b[1;33m.\u001b[0m\u001b[0mpvalue\u001b[0m\u001b[1;33m\u001b[0m\u001b[0m\n",
      "\u001b[1;32mC:\\Anaconda\\lib\\site-packages\\statsmodels\\base\\model.pyc\u001b[0m in \u001b[0;36mf_test\u001b[1;34m(self, r_matrix, cov_p, scale, invcov)\u001b[0m\n\u001b[0;32m   1434\u001b[0m         \"\"\"\n\u001b[0;32m   1435\u001b[0m         res = self.wald_test(r_matrix, cov_p=cov_p, scale=scale,\n\u001b[1;32m-> 1436\u001b[1;33m                              invcov=invcov, use_f=True)\n\u001b[0m\u001b[0;32m   1437\u001b[0m         \u001b[1;32mreturn\u001b[0m \u001b[0mres\u001b[0m\u001b[1;33m\u001b[0m\u001b[0m\n\u001b[0;32m   1438\u001b[0m \u001b[1;33m\u001b[0m\u001b[0m\n",
      "\u001b[1;32mC:\\Anaconda\\lib\\site-packages\\statsmodels\\base\\model.pyc\u001b[0m in \u001b[0;36mwald_test\u001b[1;34m(self, r_matrix, cov_p, scale, invcov, use_f)\u001b[0m\n\u001b[0;32m   1520\u001b[0m             \u001b[0mcov_p\u001b[0m \u001b[1;33m=\u001b[0m \u001b[0mself\u001b[0m\u001b[1;33m.\u001b[0m\u001b[0mcov_params\u001b[0m\u001b[1;33m(\u001b[0m\u001b[0mr_matrix\u001b[0m\u001b[1;33m=\u001b[0m\u001b[0mr_matrix\u001b[0m\u001b[1;33m,\u001b[0m \u001b[0mcov_p\u001b[0m\u001b[1;33m=\u001b[0m\u001b[0mcov_p\u001b[0m\u001b[1;33m)\u001b[0m\u001b[1;33m\u001b[0m\u001b[0m\n\u001b[0;32m   1521\u001b[0m             \u001b[1;32mif\u001b[0m \u001b[0mnp\u001b[0m\u001b[1;33m.\u001b[0m\u001b[0misnan\u001b[0m\u001b[1;33m(\u001b[0m\u001b[0mcov_p\u001b[0m\u001b[1;33m)\u001b[0m\u001b[1;33m.\u001b[0m\u001b[0mmax\u001b[0m\u001b[1;33m(\u001b[0m\u001b[1;33m)\u001b[0m\u001b[1;33m:\u001b[0m\u001b[1;33m\u001b[0m\u001b[0m\n\u001b[1;32m-> 1522\u001b[1;33m                 raise ValueError(\"r_matrix performs f_test for using \"\n\u001b[0m\u001b[0;32m   1523\u001b[0m                                  \u001b[1;34m\"dimensions that are asymptotically \"\u001b[0m\u001b[1;33m\u001b[0m\u001b[0m\n\u001b[0;32m   1524\u001b[0m                                  \"non-normal\")\n",
      "\u001b[1;31mValueError\u001b[0m: r_matrix performs f_test for using dimensions that are asymptotically non-normal"
     ]
    }
   ],
   "source": [
    "cali = ols('Values ~ County', data=destroy).fit()  # Simple anova table based on our data, showing only the the F test statistic, and Probability value for States\n",
    "aov_table= sm.stats.anova_lm(cali, typ=2) # Python's Anova version\n",
    "print (aov_table) # Simplified Anova table Results\n",
    "cali.summary()"
   ]
  },
  {
   "cell_type": "markdown",
   "metadata": {},
   "source": []
  },
  {
   "cell_type": "code",
   "execution_count": null,
   "metadata": {},
   "outputs": [],
   "source": []
  },
  {
   "cell_type": "code",
   "execution_count": null,
   "metadata": {},
   "outputs": [],
   "source": []
  }
 ],
 "metadata": {
  "kernelspec": {
   "display_name": "Python 2",
   "language": "python",
   "name": "python2"
  },
  "language_info": {
   "codemirror_mode": {
    "name": "ipython",
    "version": 2
   },
   "file_extension": ".py",
   "mimetype": "text/x-python",
   "name": "python",
   "nbconvert_exporter": "python",
   "pygments_lexer": "ipython2",
   "version": "2.7.15"
  }
 },
 "nbformat": 4,
 "nbformat_minor": 2
}
