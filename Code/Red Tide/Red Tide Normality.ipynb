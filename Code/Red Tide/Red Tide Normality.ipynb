{
 "cells": [
  {
   "cell_type": "code",
   "execution_count": 36,
   "metadata": {},
   "outputs": [],
   "source": [
    "import numpy as np\n",
    "import pandas as pd\n",
    "import scipy.stats as stats\n",
    "from scipy.stats import levene, shapiro, f_oneway\n",
    "from statsmodels.stats.multicomp import pairwise_tukeyhsd, MultiComparison\n",
    "import matplotlib.pyplot as plt\n",
    "from statsmodels.formula.api import ols\n",
    "from statsmodels.stats.anova import anova_lm\n",
    "import matplotlib.pyplot as plt\n",
    "import math\n",
    "import pandas as pd\n",
    "import numpy as np\n",
    "import random\n",
    "from matplotlib import cm\n",
    "import statsmodels.api as sm\n",
    "from statsmodels.formula.api import ols as ols\n",
    "from scipy.stats import norm, shapiro, levene"
   ]
  },
  {
   "cell_type": "code",
   "execution_count": 46,
   "metadata": {},
   "outputs": [],
   "source": [
    "redtide = pd.read_csv('Recent_Harmful_Algal_Bloom_HAB_Events.csv')"
   ]
  },
  {
   "cell_type": "code",
   "execution_count": 47,
   "metadata": {},
   "outputs": [
    {
     "data": {
      "text/html": [
       "<div>\n",
       "<style scoped>\n",
       "    .dataframe tbody tr th:only-of-type {\n",
       "        vertical-align: middle;\n",
       "    }\n",
       "\n",
       "    .dataframe tbody tr th {\n",
       "        vertical-align: top;\n",
       "    }\n",
       "\n",
       "    .dataframe thead th {\n",
       "        text-align: right;\n",
       "    }\n",
       "</style>\n",
       "<table border=\"1\" class=\"dataframe\">\n",
       "  <thead>\n",
       "    <tr style=\"text-align: right;\">\n",
       "      <th></th>\n",
       "      <th>X</th>\n",
       "      <th>Y</th>\n",
       "      <th>OBJECTID</th>\n",
       "      <th>LATITUDE</th>\n",
       "      <th>LONGITUDE</th>\n",
       "      <th>Count</th>\n",
       "      <th>Name</th>\n",
       "      <th>HAB_ID</th>\n",
       "      <th>Location</th>\n",
       "      <th>SAMPLE_DATE</th>\n",
       "      <th>SAMPLE_DEPTH</th>\n",
       "      <th>PROOF_DATE</th>\n",
       "    </tr>\n",
       "  </thead>\n",
       "  <tbody>\n",
       "    <tr>\n",
       "      <th>0</th>\n",
       "      <td>-82.468827</td>\n",
       "      <td>27.113815</td>\n",
       "      <td>17351</td>\n",
       "      <td>27.11382</td>\n",
       "      <td>-82.46883</td>\n",
       "      <td>23000</td>\n",
       "      <td>Karenia brevis</td>\n",
       "      <td>HABW160216-017</td>\n",
       "      <td>North Jetty</td>\n",
       "      <td>2016-02-15T00:00:00.000Z</td>\n",
       "      <td>0.5</td>\n",
       "      <td>2016-04-14T00:00:00.000Z</td>\n",
       "    </tr>\n",
       "    <tr>\n",
       "      <th>1</th>\n",
       "      <td>-82.460887</td>\n",
       "      <td>27.100335</td>\n",
       "      <td>17352</td>\n",
       "      <td>27.10034</td>\n",
       "      <td>-82.46089</td>\n",
       "      <td>8000</td>\n",
       "      <td>Karenia brevis</td>\n",
       "      <td>HABW160216-018</td>\n",
       "      <td>Venice Beach</td>\n",
       "      <td>2016-02-15T00:00:00.000Z</td>\n",
       "      <td>0.5</td>\n",
       "      <td>2016-04-14T00:00:00.000Z</td>\n",
       "    </tr>\n",
       "    <tr>\n",
       "      <th>2</th>\n",
       "      <td>-82.452857</td>\n",
       "      <td>27.078265</td>\n",
       "      <td>17353</td>\n",
       "      <td>27.07827</td>\n",
       "      <td>-82.45286</td>\n",
       "      <td>9000</td>\n",
       "      <td>Karenia brevis</td>\n",
       "      <td>HABW160216-019</td>\n",
       "      <td>Service Club Park</td>\n",
       "      <td>2016-02-15T00:00:00.000Z</td>\n",
       "      <td>0.5</td>\n",
       "      <td>2016-04-14T00:00:00.000Z</td>\n",
       "    </tr>\n",
       "    <tr>\n",
       "      <th>3</th>\n",
       "      <td>-82.450897</td>\n",
       "      <td>27.073495</td>\n",
       "      <td>17354</td>\n",
       "      <td>27.07350</td>\n",
       "      <td>-82.45090</td>\n",
       "      <td>11000</td>\n",
       "      <td>Karenia brevis</td>\n",
       "      <td>HABW160216-020</td>\n",
       "      <td>Venice Fishing Pier</td>\n",
       "      <td>2016-02-15T00:00:00.000Z</td>\n",
       "      <td>0.5</td>\n",
       "      <td>2016-04-14T00:00:00.000Z</td>\n",
       "    </tr>\n",
       "    <tr>\n",
       "      <th>4</th>\n",
       "      <td>-82.447997</td>\n",
       "      <td>27.066305</td>\n",
       "      <td>17355</td>\n",
       "      <td>27.06631</td>\n",
       "      <td>-82.44800</td>\n",
       "      <td>11000</td>\n",
       "      <td>Karenia brevis</td>\n",
       "      <td>HABW160216-021</td>\n",
       "      <td>Brohard Beach</td>\n",
       "      <td>2016-02-15T00:00:00.000Z</td>\n",
       "      <td>0.5</td>\n",
       "      <td>2016-04-14T00:00:00.000Z</td>\n",
       "    </tr>\n",
       "  </tbody>\n",
       "</table>\n",
       "</div>"
      ],
      "text/plain": [
       "           X          Y  OBJECTID  LATITUDE  LONGITUDE  Count            Name  \\\n",
       "0 -82.468827  27.113815     17351  27.11382  -82.46883  23000  Karenia brevis   \n",
       "1 -82.460887  27.100335     17352  27.10034  -82.46089   8000  Karenia brevis   \n",
       "2 -82.452857  27.078265     17353  27.07827  -82.45286   9000  Karenia brevis   \n",
       "3 -82.450897  27.073495     17354  27.07350  -82.45090  11000  Karenia brevis   \n",
       "4 -82.447997  27.066305     17355  27.06631  -82.44800  11000  Karenia brevis   \n",
       "\n",
       "           HAB_ID             Location               SAMPLE_DATE  \\\n",
       "0  HABW160216-017          North Jetty  2016-02-15T00:00:00.000Z   \n",
       "1  HABW160216-018         Venice Beach  2016-02-15T00:00:00.000Z   \n",
       "2  HABW160216-019    Service Club Park  2016-02-15T00:00:00.000Z   \n",
       "3  HABW160216-020  Venice Fishing Pier  2016-02-15T00:00:00.000Z   \n",
       "4  HABW160216-021        Brohard Beach  2016-02-15T00:00:00.000Z   \n",
       "\n",
       "   SAMPLE_DEPTH                PROOF_DATE  \n",
       "0           0.5  2016-04-14T00:00:00.000Z  \n",
       "1           0.5  2016-04-14T00:00:00.000Z  \n",
       "2           0.5  2016-04-14T00:00:00.000Z  \n",
       "3           0.5  2016-04-14T00:00:00.000Z  \n",
       "4           0.5  2016-04-14T00:00:00.000Z  "
      ]
     },
     "execution_count": 47,
     "metadata": {},
     "output_type": "execute_result"
    }
   ],
   "source": [
    "redtide.head()"
   ]
  },
  {
   "cell_type": "code",
   "execution_count": 48,
   "metadata": {},
   "outputs": [
    {
     "data": {
      "text/plain": [
       "(0.31621283292770386, 2.7800625319354623e-19)"
      ]
     },
     "execution_count": 48,
     "metadata": {},
     "output_type": "execute_result"
    }
   ],
   "source": [
    "shapiro(redtide[redtide['Location'] == 'North Jetty'].Count)"
   ]
  },
  {
   "cell_type": "code",
   "execution_count": 49,
   "metadata": {},
   "outputs": [],
   "source": [
    "def is_normal(redtide):\n",
    "    \"\"\"Shapiro-Wilk test of normality \"\"\"\n",
    "    \n",
    "    _, pvalue = shapiro(redtide)\n",
    "    template = \"{} (p-value={:.4f})\"\n",
    "    \n",
    "    return template.format((pvalue > 0.05), pvalue)"
   ]
  },
  {
   "cell_type": "code",
   "execution_count": 50,
   "metadata": {},
   "outputs": [
    {
     "ename": "ValueError",
     "evalue": "Data must be at least length 3.",
     "output_type": "error",
     "traceback": [
      "\u001b[1;31m\u001b[0m",
      "\u001b[1;31mValueError\u001b[0mTraceback (most recent call last)",
      "\u001b[1;32m<ipython-input-50-1360aa732dd4>\u001b[0m in \u001b[0;36m<module>\u001b[1;34m()\u001b[0m\n\u001b[1;32m----> 1\u001b[1;33m \u001b[1;32mprint\u001b[0m \u001b[0mis_normal\u001b[0m\u001b[1;33m(\u001b[0m\u001b[1;34m'Location'\u001b[0m\u001b[1;33m)\u001b[0m\u001b[1;33m\u001b[0m\u001b[0m\n\u001b[0m",
      "\u001b[1;32m<ipython-input-49-387a8c119cde>\u001b[0m in \u001b[0;36mis_normal\u001b[1;34m(redtide)\u001b[0m\n\u001b[0;32m      2\u001b[0m     \u001b[1;34m\"\"\"Shapiro-Wilk test of normality \"\"\"\u001b[0m\u001b[1;33m\u001b[0m\u001b[0m\n\u001b[0;32m      3\u001b[0m \u001b[1;33m\u001b[0m\u001b[0m\n\u001b[1;32m----> 4\u001b[1;33m     \u001b[0m_\u001b[0m\u001b[1;33m,\u001b[0m \u001b[0mpvalue\u001b[0m \u001b[1;33m=\u001b[0m \u001b[0mshapiro\u001b[0m\u001b[1;33m(\u001b[0m\u001b[0mredtide\u001b[0m\u001b[1;33m)\u001b[0m\u001b[1;33m\u001b[0m\u001b[0m\n\u001b[0m\u001b[0;32m      5\u001b[0m     \u001b[0mtemplate\u001b[0m \u001b[1;33m=\u001b[0m \u001b[1;34m\"{} (p-value={:.4f})\"\u001b[0m\u001b[1;33m\u001b[0m\u001b[0m\n\u001b[0;32m      6\u001b[0m \u001b[1;33m\u001b[0m\u001b[0m\n",
      "\u001b[1;32mC:\\Users\\Kristin Synnott\\Anaconda2\\lib\\site-packages\\scipy\\stats\\morestats.pyc\u001b[0m in \u001b[0;36mshapiro\u001b[1;34m(x)\u001b[0m\n\u001b[0;32m   1296\u001b[0m     \u001b[0mN\u001b[0m \u001b[1;33m=\u001b[0m \u001b[0mlen\u001b[0m\u001b[1;33m(\u001b[0m\u001b[0mx\u001b[0m\u001b[1;33m)\u001b[0m\u001b[1;33m\u001b[0m\u001b[0m\n\u001b[0;32m   1297\u001b[0m     \u001b[1;32mif\u001b[0m \u001b[0mN\u001b[0m \u001b[1;33m<\u001b[0m \u001b[1;36m3\u001b[0m\u001b[1;33m:\u001b[0m\u001b[1;33m\u001b[0m\u001b[0m\n\u001b[1;32m-> 1298\u001b[1;33m         \u001b[1;32mraise\u001b[0m \u001b[0mValueError\u001b[0m\u001b[1;33m(\u001b[0m\u001b[1;34m\"Data must be at least length 3.\"\u001b[0m\u001b[1;33m)\u001b[0m\u001b[1;33m\u001b[0m\u001b[0m\n\u001b[0m\u001b[0;32m   1299\u001b[0m \u001b[1;33m\u001b[0m\u001b[0m\n\u001b[0;32m   1300\u001b[0m     \u001b[0ma\u001b[0m \u001b[1;33m=\u001b[0m \u001b[0mzeros\u001b[0m\u001b[1;33m(\u001b[0m\u001b[0mN\u001b[0m\u001b[1;33m,\u001b[0m \u001b[1;34m'f'\u001b[0m\u001b[1;33m)\u001b[0m\u001b[1;33m\u001b[0m\u001b[0m\n",
      "\u001b[1;31mValueError\u001b[0m: Data must be at least length 3."
     ]
    }
   ],
   "source": [
    "print is_normal('Location')"
   ]
  },
  {
   "cell_type": "code",
   "execution_count": 34,
   "metadata": {},
   "outputs": [],
   "source": [
    "def hist_with_gauss(redtide):\n",
    "    \"\"\"plot histogram for variable with gaussian curve\"\"\"\n",
    "    \n",
    "    mu, sigma = norm.fit(redtide)\n",
    "    plt.figure(1)\n",
    "    n, bins, patches = plt.hist(data, bins='auto', normed=1)\n",
    "    y = mlab.normpdf(bins, mu, sigma)\n",
    "    plt.plot(bins, y, 'r--', linewidth=2)\n",
    "    \n",
    "    return plt"
   ]
  },
  {
   "cell_type": "code",
   "execution_count": 42,
   "metadata": {},
   "outputs": [
    {
     "ename": "TypeError",
     "evalue": "cannot perform reduce with flexible type",
     "output_type": "error",
     "traceback": [
      "\u001b[1;31m\u001b[0m",
      "\u001b[1;31mTypeError\u001b[0mTraceback (most recent call last)",
      "\u001b[1;32m<ipython-input-42-7a68114d207e>\u001b[0m in \u001b[0;36m<module>\u001b[1;34m()\u001b[0m\n\u001b[1;32m----> 1\u001b[1;33m \u001b[0mhist_with_gauss\u001b[0m\u001b[1;33m(\u001b[0m\u001b[1;34m'North Jetty'\u001b[0m\u001b[1;33m)\u001b[0m\u001b[1;33m\u001b[0m\u001b[0m\n\u001b[0m",
      "\u001b[1;32m<ipython-input-34-287358665815>\u001b[0m in \u001b[0;36mhist_with_gauss\u001b[1;34m(redtide)\u001b[0m\n\u001b[0;32m      2\u001b[0m     \u001b[1;34m\"\"\"plot histogram for variable with gaussian curve\"\"\"\u001b[0m\u001b[1;33m\u001b[0m\u001b[0m\n\u001b[0;32m      3\u001b[0m \u001b[1;33m\u001b[0m\u001b[0m\n\u001b[1;32m----> 4\u001b[1;33m     \u001b[0mmu\u001b[0m\u001b[1;33m,\u001b[0m \u001b[0msigma\u001b[0m \u001b[1;33m=\u001b[0m \u001b[0mnorm\u001b[0m\u001b[1;33m.\u001b[0m\u001b[0mfit\u001b[0m\u001b[1;33m(\u001b[0m\u001b[0mredtide\u001b[0m\u001b[1;33m)\u001b[0m\u001b[1;33m\u001b[0m\u001b[0m\n\u001b[0m\u001b[0;32m      5\u001b[0m     \u001b[0mplt\u001b[0m\u001b[1;33m.\u001b[0m\u001b[0mfigure\u001b[0m\u001b[1;33m(\u001b[0m\u001b[1;36m1\u001b[0m\u001b[1;33m)\u001b[0m\u001b[1;33m\u001b[0m\u001b[0m\n\u001b[0;32m      6\u001b[0m     \u001b[0mn\u001b[0m\u001b[1;33m,\u001b[0m \u001b[0mbins\u001b[0m\u001b[1;33m,\u001b[0m \u001b[0mpatches\u001b[0m \u001b[1;33m=\u001b[0m \u001b[0mplt\u001b[0m\u001b[1;33m.\u001b[0m\u001b[0mhist\u001b[0m\u001b[1;33m(\u001b[0m\u001b[0mdata\u001b[0m\u001b[1;33m,\u001b[0m \u001b[0mbins\u001b[0m\u001b[1;33m=\u001b[0m\u001b[1;34m'auto'\u001b[0m\u001b[1;33m,\u001b[0m \u001b[0mnormed\u001b[0m\u001b[1;33m=\u001b[0m\u001b[1;36m1\u001b[0m\u001b[1;33m)\u001b[0m\u001b[1;33m\u001b[0m\u001b[0m\n",
      "\u001b[1;32mC:\\Users\\Kristin Synnott\\Anaconda2\\lib\\site-packages\\scipy\\stats\\_continuous_distns.pyc\u001b[0m in \u001b[0;36mfit\u001b[1;34m(self, data, **kwds)\u001b[0m\n\u001b[0;32m    188\u001b[0m \u001b[1;33m\u001b[0m\u001b[0m\n\u001b[0;32m    189\u001b[0m         \u001b[1;32mif\u001b[0m \u001b[0mfloc\u001b[0m \u001b[1;32mis\u001b[0m \u001b[0mNone\u001b[0m\u001b[1;33m:\u001b[0m\u001b[1;33m\u001b[0m\u001b[0m\n\u001b[1;32m--> 190\u001b[1;33m             \u001b[0mloc\u001b[0m \u001b[1;33m=\u001b[0m \u001b[0mdata\u001b[0m\u001b[1;33m.\u001b[0m\u001b[0mmean\u001b[0m\u001b[1;33m(\u001b[0m\u001b[1;33m)\u001b[0m\u001b[1;33m\u001b[0m\u001b[0m\n\u001b[0m\u001b[0;32m    191\u001b[0m         \u001b[1;32melse\u001b[0m\u001b[1;33m:\u001b[0m\u001b[1;33m\u001b[0m\u001b[0m\n\u001b[0;32m    192\u001b[0m             \u001b[0mloc\u001b[0m \u001b[1;33m=\u001b[0m \u001b[0mfloc\u001b[0m\u001b[1;33m\u001b[0m\u001b[0m\n",
      "\u001b[1;32mC:\\Users\\Kristin Synnott\\Anaconda2\\lib\\site-packages\\numpy\\core\\_methods.pyc\u001b[0m in \u001b[0;36m_mean\u001b[1;34m(a, axis, dtype, out, keepdims)\u001b[0m\n\u001b[0;32m     68\u001b[0m             \u001b[0mis_float16_result\u001b[0m \u001b[1;33m=\u001b[0m \u001b[0mTrue\u001b[0m\u001b[1;33m\u001b[0m\u001b[0m\n\u001b[0;32m     69\u001b[0m \u001b[1;33m\u001b[0m\u001b[0m\n\u001b[1;32m---> 70\u001b[1;33m     \u001b[0mret\u001b[0m \u001b[1;33m=\u001b[0m \u001b[0mumr_sum\u001b[0m\u001b[1;33m(\u001b[0m\u001b[0marr\u001b[0m\u001b[1;33m,\u001b[0m \u001b[0maxis\u001b[0m\u001b[1;33m,\u001b[0m \u001b[0mdtype\u001b[0m\u001b[1;33m,\u001b[0m \u001b[0mout\u001b[0m\u001b[1;33m,\u001b[0m \u001b[0mkeepdims\u001b[0m\u001b[1;33m)\u001b[0m\u001b[1;33m\u001b[0m\u001b[0m\n\u001b[0m\u001b[0;32m     71\u001b[0m     \u001b[1;32mif\u001b[0m \u001b[0misinstance\u001b[0m\u001b[1;33m(\u001b[0m\u001b[0mret\u001b[0m\u001b[1;33m,\u001b[0m \u001b[0mmu\u001b[0m\u001b[1;33m.\u001b[0m\u001b[0mndarray\u001b[0m\u001b[1;33m)\u001b[0m\u001b[1;33m:\u001b[0m\u001b[1;33m\u001b[0m\u001b[0m\n\u001b[0;32m     72\u001b[0m         ret = um.true_divide(\n",
      "\u001b[1;31mTypeError\u001b[0m: cannot perform reduce with flexible type"
     ]
    }
   ],
   "source": [
    "hist_with_gauss('North Jetty')"
   ]
  },
  {
   "cell_type": "code",
   "execution_count": null,
   "metadata": {},
   "outputs": [],
   "source": []
  }
 ],
 "metadata": {
  "kernelspec": {
   "display_name": "Python 2",
   "language": "python",
   "name": "python2"
  },
  "language_info": {
   "codemirror_mode": {
    "name": "ipython",
    "version": 2
   },
   "file_extension": ".py",
   "mimetype": "text/x-python",
   "name": "python",
   "nbconvert_exporter": "python",
   "pygments_lexer": "ipython2",
   "version": "2.7.15"
  }
 },
 "nbformat": 4,
 "nbformat_minor": 2
}
