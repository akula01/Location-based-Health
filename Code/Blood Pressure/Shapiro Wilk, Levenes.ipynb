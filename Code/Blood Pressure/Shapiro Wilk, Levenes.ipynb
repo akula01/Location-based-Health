{
 "cells": [
  {
   "cell_type": "code",
   "execution_count": 3,
   "metadata": {},
   "outputs": [],
   "source": [
    "import numpy as np\n",
    "import pandas as pd\n",
    "import scipy.stats as stats\n",
    "from scipy.stats import levene, shapiro, f_oneway\n",
    "from statsmodels.stats.multicomp import pairwise_tukeyhsd, MultiComparison\n",
    "import matplotlib.pyplot as plt\n",
    "from statsmodels.formula.api import ols\n",
    "from statsmodels.stats.anova import anova_lm\n",
    "import matplotlib.pyplot as plt\n",
    "import math\n",
    "import pandas as pd\n",
    "import numpy as np\n",
    "import random\n",
    "from matplotlib import cm\n",
    "import statsmodels.api as sm\n",
    "from statsmodels.formula.api import ols as ols"
   ]
  },
  {
   "cell_type": "code",
   "execution_count": 12,
   "metadata": {},
   "outputs": [],
   "source": [
    "df1 = pd.read_csv('SuperFilteredData.csv')"
   ]
  },
  {
   "cell_type": "code",
   "execution_count": 13,
   "metadata": {},
   "outputs": [
    {
     "data": {
      "text/html": [
       "<div>\n",
       "<style scoped>\n",
       "    .dataframe tbody tr th:only-of-type {\n",
       "        vertical-align: middle;\n",
       "    }\n",
       "\n",
       "    .dataframe tbody tr th {\n",
       "        vertical-align: top;\n",
       "    }\n",
       "\n",
       "    .dataframe thead th {\n",
       "        text-align: right;\n",
       "    }\n",
       "</style>\n",
       "<table border=\"1\" class=\"dataframe\">\n",
       "  <thead>\n",
       "    <tr style=\"text-align: right;\">\n",
       "      <th></th>\n",
       "      <th>StateAbbr</th>\n",
       "      <th>State</th>\n",
       "      <th>CityName</th>\n",
       "      <th>Measure</th>\n",
       "      <th>DataValueTypeID</th>\n",
       "      <th>Data_Value</th>\n",
       "      <th>PopulationCount</th>\n",
       "      <th>CA-latitude</th>\n",
       "      <th>CA-longitude</th>\n",
       "      <th>FL-latitude</th>\n",
       "      <th>FL-longitude</th>\n",
       "      <th>MA-latitude</th>\n",
       "      <th>MA-longitude</th>\n",
       "    </tr>\n",
       "  </thead>\n",
       "  <tbody>\n",
       "    <tr>\n",
       "      <th>0</th>\n",
       "      <td>CA</td>\n",
       "      <td>California</td>\n",
       "      <td>Alameda</td>\n",
       "      <td>High blood pressure among adults aged &gt;=18 Years</td>\n",
       "      <td>AgeAdjPrv</td>\n",
       "      <td>23.8</td>\n",
       "      <td>73812</td>\n",
       "      <td>38.429498</td>\n",
       "      <td>-122.793289</td>\n",
       "      <td>30.562583</td>\n",
       "      <td>-84.257936</td>\n",
       "      <td>42.117944</td>\n",
       "      <td>-72.615679</td>\n",
       "    </tr>\n",
       "    <tr>\n",
       "      <th>1</th>\n",
       "      <td>CA</td>\n",
       "      <td>California</td>\n",
       "      <td>Alameda</td>\n",
       "      <td>High blood pressure among adults aged &gt;=18 Years</td>\n",
       "      <td>CrdPrv</td>\n",
       "      <td>25.8</td>\n",
       "      <td>73812</td>\n",
       "      <td>38.405848</td>\n",
       "      <td>-122.770651</td>\n",
       "      <td>30.537487</td>\n",
       "      <td>-84.208716</td>\n",
       "      <td>42.120109</td>\n",
       "      <td>-72.608316</td>\n",
       "    </tr>\n",
       "    <tr>\n",
       "      <th>2</th>\n",
       "      <td>CA</td>\n",
       "      <td>California</td>\n",
       "      <td>Alameda</td>\n",
       "      <td>High blood pressure among adults aged &gt;=18 Years</td>\n",
       "      <td>CrdPrv</td>\n",
       "      <td>27.3</td>\n",
       "      <td>3646</td>\n",
       "      <td>38.470273</td>\n",
       "      <td>-122.766696</td>\n",
       "      <td>30.532277</td>\n",
       "      <td>-84.290747</td>\n",
       "      <td>42.109904</td>\n",
       "      <td>-72.604168</td>\n",
       "    </tr>\n",
       "    <tr>\n",
       "      <th>3</th>\n",
       "      <td>CA</td>\n",
       "      <td>California</td>\n",
       "      <td>Alameda</td>\n",
       "      <td>High blood pressure among adults aged &gt;=18 Years</td>\n",
       "      <td>CrdPrv</td>\n",
       "      <td>25.3</td>\n",
       "      <td>4107</td>\n",
       "      <td>38.460995</td>\n",
       "      <td>-122.761087</td>\n",
       "      <td>30.524199</td>\n",
       "      <td>-84.229299</td>\n",
       "      <td>42.123747</td>\n",
       "      <td>-72.600152</td>\n",
       "    </tr>\n",
       "    <tr>\n",
       "      <th>4</th>\n",
       "      <td>CA</td>\n",
       "      <td>California</td>\n",
       "      <td>Alameda</td>\n",
       "      <td>High blood pressure among adults aged &gt;=18 Years</td>\n",
       "      <td>CrdPrv</td>\n",
       "      <td>29.6</td>\n",
       "      <td>4896</td>\n",
       "      <td>38.443232</td>\n",
       "      <td>-122.758348</td>\n",
       "      <td>30.524117</td>\n",
       "      <td>-84.209533</td>\n",
       "      <td>42.103772</td>\n",
       "      <td>-72.594087</td>\n",
       "    </tr>\n",
       "  </tbody>\n",
       "</table>\n",
       "</div>"
      ],
      "text/plain": [
       "  StateAbbr       State CityName  \\\n",
       "0        CA  California  Alameda   \n",
       "1        CA  California  Alameda   \n",
       "2        CA  California  Alameda   \n",
       "3        CA  California  Alameda   \n",
       "4        CA  California  Alameda   \n",
       "\n",
       "                                            Measure DataValueTypeID  \\\n",
       "0  High blood pressure among adults aged >=18 Years       AgeAdjPrv   \n",
       "1  High blood pressure among adults aged >=18 Years          CrdPrv   \n",
       "2  High blood pressure among adults aged >=18 Years          CrdPrv   \n",
       "3  High blood pressure among adults aged >=18 Years          CrdPrv   \n",
       "4  High blood pressure among adults aged >=18 Years          CrdPrv   \n",
       "\n",
       "   Data_Value  PopulationCount  CA-latitude  CA-longitude  FL-latitude  \\\n",
       "0        23.8            73812    38.429498   -122.793289    30.562583   \n",
       "1        25.8            73812    38.405848   -122.770651    30.537487   \n",
       "2        27.3             3646    38.470273   -122.766696    30.532277   \n",
       "3        25.3             4107    38.460995   -122.761087    30.524199   \n",
       "4        29.6             4896    38.443232   -122.758348    30.524117   \n",
       "\n",
       "   FL-longitude  MA-latitude  MA-longitude  \n",
       "0    -84.257936    42.117944    -72.615679  \n",
       "1    -84.208716    42.120109    -72.608316  \n",
       "2    -84.290747    42.109904    -72.604168  \n",
       "3    -84.229299    42.123747    -72.600152  \n",
       "4    -84.209533    42.103772    -72.594087  "
      ]
     },
     "execution_count": 13,
     "metadata": {},
     "output_type": "execute_result"
    }
   ],
   "source": [
    "df1.head()"
   ]
  },
  {
   "cell_type": "markdown",
   "metadata": {},
   "source": [
    "We do a shapiro test to check whether this ANOVA can be done are not.\n",
    "Conditions to do 1 way ANOVA is :\n",
    "First we do a shapiro test, if this test passes then we continue to do a One Way ANOVA, otherwise, we do a Levene's Test. "
   ]
  },
  {
   "cell_type": "markdown",
   "metadata": {},
   "source": [
    "The first value is the shapiro statistic, the second is the p-value"
   ]
  },
  {
   "cell_type": "code",
   "execution_count": 44,
   "metadata": {},
   "outputs": [
    {
     "data": {
      "text/plain": [
       "(0.9713255763053894, 0.8222182393074036)"
      ]
     },
     "execution_count": 44,
     "metadata": {},
     "output_type": "execute_result"
    }
   ],
   "source": [
    "shapiro(df1[df1['CityName'] == 'Alameda'].Data_Value)"
   ]
  },
  {
   "cell_type": "code",
   "execution_count": 38,
   "metadata": {},
   "outputs": [
    {
     "name": "stderr",
     "output_type": "stream",
     "text": [
      "C:\\Users\\Kristin Synnott\\Anaconda2\\lib\\site-packages\\scipy\\stats\\morestats.py:1309: UserWarning: p-value may not be accurate for N > 5000.\n",
      "  warnings.warn(\"p-value may not be accurate for N > 5000.\")\n"
     ]
    },
    {
     "data": {
      "text/plain": [
       "(0.9439206123352051, 1.9291675958359757e-41)"
      ]
     },
     "execution_count": 38,
     "metadata": {},
     "output_type": "execute_result"
    }
   ],
   "source": [
    "shapiro(df1[df1['State'] == 'California'].Data_Value)"
   ]
  },
  {
   "cell_type": "code",
   "execution_count": 36,
   "metadata": {},
   "outputs": [
    {
     "data": {
      "text/plain": [
       "(0.9867967367172241, 8.829720843372968e-10)"
      ]
     },
     "execution_count": 36,
     "metadata": {},
     "output_type": "execute_result"
    }
   ],
   "source": [
    "shapiro(df1[df1['State'] == 'Florida'].Data_Value)"
   ]
  },
  {
   "cell_type": "code",
   "execution_count": 35,
   "metadata": {},
   "outputs": [
    {
     "data": {
      "text/plain": [
       "(0.9778867363929749, 5.551264621317387e-07)"
      ]
     },
     "execution_count": 35,
     "metadata": {},
     "output_type": "execute_result"
    }
   ],
   "source": [
    "shapiro(df1[df1['State'] == 'Massachusetts'].Data_Value)"
   ]
  },
  {
   "cell_type": "code",
   "execution_count": 41,
   "metadata": {},
   "outputs": [
    {
     "data": {
      "text/html": [
       "<div>\n",
       "<style scoped>\n",
       "    .dataframe tbody tr th:only-of-type {\n",
       "        vertical-align: middle;\n",
       "    }\n",
       "\n",
       "    .dataframe tbody tr th {\n",
       "        vertical-align: top;\n",
       "    }\n",
       "\n",
       "    .dataframe thead th {\n",
       "        text-align: right;\n",
       "    }\n",
       "</style>\n",
       "<table border=\"1\" class=\"dataframe\">\n",
       "  <thead>\n",
       "    <tr style=\"text-align: right;\">\n",
       "      <th></th>\n",
       "      <th>StateAbbr</th>\n",
       "      <th>State</th>\n",
       "      <th>CityName</th>\n",
       "      <th>Data_Value</th>\n",
       "    </tr>\n",
       "  </thead>\n",
       "  <tbody>\n",
       "    <tr>\n",
       "      <th>967</th>\n",
       "      <td>CA</td>\n",
       "      <td>California</td>\n",
       "      <td>Fremont</td>\n",
       "      <td>25.8</td>\n",
       "    </tr>\n",
       "    <tr>\n",
       "      <th>5042</th>\n",
       "      <td>CA</td>\n",
       "      <td>California</td>\n",
       "      <td>Stockton</td>\n",
       "      <td>36.2</td>\n",
       "    </tr>\n",
       "    <tr>\n",
       "      <th>116</th>\n",
       "      <td>CA</td>\n",
       "      <td>California</td>\n",
       "      <td>Anaheim</td>\n",
       "      <td>24.3</td>\n",
       "    </tr>\n",
       "    <tr>\n",
       "      <th>297</th>\n",
       "      <td>CA</td>\n",
       "      <td>California</td>\n",
       "      <td>Berkeley</td>\n",
       "      <td>24.2</td>\n",
       "    </tr>\n",
       "    <tr>\n",
       "      <th>4815</th>\n",
       "      <td>CA</td>\n",
       "      <td>California</td>\n",
       "      <td>Santa Clarita</td>\n",
       "      <td>23.5</td>\n",
       "    </tr>\n",
       "  </tbody>\n",
       "</table>\n",
       "</div>"
      ],
      "text/plain": [
       "     StateAbbr       State       CityName  Data_Value\n",
       "967         CA  California        Fremont        25.8\n",
       "5042        CA  California       Stockton        36.2\n",
       "116         CA  California        Anaheim        24.3\n",
       "297         CA  California       Berkeley        24.2\n",
       "4815        CA  California  Santa Clarita        23.5"
      ]
     },
     "execution_count": 41,
     "metadata": {},
     "output_type": "execute_result"
    }
   ],
   "source": [
    "cali = pd.read_csv('california.csv')\n",
    "dripdrop = cali.drop(['CA-latitude','CA-longitude','FL-latitude','FL-longitude','MA-latitude','MA-longitude','Measure','DataValueTypeID','PopulationCount'], axis = 1)\n",
    "california_sample = dripdrop.sample(n=5000)\n",
    "california_sample.head()"
   ]
  },
  {
   "cell_type": "code",
   "execution_count": 42,
   "metadata": {},
   "outputs": [
    {
     "data": {
      "text/plain": [
       "(0.9497498869895935, 2.4606582430983353e-38)"
      ]
     },
     "execution_count": 42,
     "metadata": {},
     "output_type": "execute_result"
    }
   ],
   "source": [
    "shapiro(california_sample[california_sample['State'] == 'California'].Data_Value)"
   ]
  },
  {
   "cell_type": "code",
   "execution_count": 49,
   "metadata": {},
   "outputs": [],
   "source": [
    "alpha = .05\n",
    "p = 0"
   ]
  },
  {
   "cell_type": "code",
   "execution_count": 55,
   "metadata": {},
   "outputs": [
    {
     "name": "stdout",
     "output_type": "stream",
     "text": [
      "0 Sample does not look Gaussian, reject the H0\n"
     ]
    }
   ],
   "source": [
    "if p > alpha:\n",
    "    print p, \"Sample looks Gaussian aka fail to reject H0\"#means that it passes, data is normally distributed\n",
    "if p < alpha: \n",
    "    print p, \"Sample does not look Gaussian, reject the H0\"#means it fails"
   ]
  },
  {
   "cell_type": "markdown",
   "metadata": {},
   "source": [
    "After writing the code for testing alpha, we ran the data through SPSS to check out work. "
   ]
  },
  {
   "cell_type": "markdown",
   "metadata": {},
   "source": [
    "I tried to do it by state, however, because the sample size is so large, you get errors, so I just did one city for now."
   ]
  },
  {
   "cell_type": "markdown",
   "metadata": {},
   "source": [
    "If the p-value is less than the significance level (in this case 0.05, a 95% confidence interval), the null hypothesis that the data is normally distributed can be rejected. In short, if the p-value is less than 0.05, we can assume the data is not normally distributed. "
   ]
  },
  {
   "cell_type": "code",
   "execution_count": 56,
   "metadata": {},
   "outputs": [],
   "source": [
    "#Levenes Test\n",
    "#Since our Shapiro failed, we do a Levene's test\n",
    "ldf1=df1[df1['State'] == 'Florida']\n",
    "ldf2=df1[df1['State'] == 'Massachusetts']\n",
    "ldf3=california_sample[california_sample['State'] == 'California']"
   ]
  },
  {
   "cell_type": "code",
   "execution_count": 35,
   "metadata": {},
   "outputs": [],
   "source": [
    "x1=ldf1['Data_Value'].mean()\n",
    "y1=ldf2['Data_Value'].mean()\n",
    "z1=ldf3['Data_Value'].mean()"
   ]
  },
  {
   "cell_type": "code",
   "execution_count": 37,
   "metadata": {},
   "outputs": [
    {
     "name": "stdout",
     "output_type": "stream",
     "text": [
      "(32.17626745040412, 28.44372549019608, 26.870520000000052)\n"
     ]
    }
   ],
   "source": [
    "print(x1,y1,z1)"
   ]
  },
  {
   "cell_type": "code",
   "execution_count": 39,
   "metadata": {},
   "outputs": [
    {
     "data": {
      "text/plain": [
       "LeveneResult(statistic=214.80366940467528, pvalue=3.261335657269471e-91)"
      ]
     },
     "execution_count": 39,
     "metadata": {},
     "output_type": "execute_result"
    }
   ],
   "source": [
    "# Actual Levene's test\n",
    "\n",
    "levene(ldf1['Data_Value'],ldf2['Data_Value'],ldf3['Data_Value'])"
   ]
  },
  {
   "cell_type": "markdown",
   "metadata": {},
   "source": [
    "you want p value >.05 so homogenuity fails. Null is all variances are equal."
   ]
  },
  {
   "cell_type": "markdown",
   "metadata": {},
   "source": [
    "Since the states failed as far as normality, we decided to run the Shaprio Wilk for all 163 cities in SPSS to see if the cities were normal                                                      "
   ]
  },
  {
   "cell_type": "markdown",
   "metadata": {},
   "source": [
    "This turned put to be normal, so we can use the cities in our analysis"
   ]
  }
 ],
 "metadata": {
  "kernelspec": {
   "display_name": "Python 2",
   "language": "python",
   "name": "python2"
  },
  "language_info": {
   "codemirror_mode": {
    "name": "ipython",
    "version": 2
   },
   "file_extension": ".py",
   "mimetype": "text/x-python",
   "name": "python",
   "nbconvert_exporter": "python",
   "pygments_lexer": "ipython2",
   "version": "2.7.15"
  }
 },
 "nbformat": 4,
 "nbformat_minor": 2
}
